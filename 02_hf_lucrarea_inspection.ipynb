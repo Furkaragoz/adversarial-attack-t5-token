{
 "cells": [
  {
   "cell_type": "code",
   "execution_count": 1,
   "id": "34026bdb",
   "metadata": {},
   "outputs": [
    {
     "ename": "ModuleNotFoundError",
     "evalue": "No module named 'transformers'",
     "output_type": "error",
     "traceback": [
      "\u001b[0;31m---------------------------------------------------------------------------\u001b[0m",
      "\u001b[0;31mModuleNotFoundError\u001b[0m                       Traceback (most recent call last)",
      "Cell \u001b[0;32mIn[1], line 11\u001b[0m\n\u001b[1;32m      1\u001b[0m \u001b[38;5;66;03m#  02_hf_lucrarea_inspection.ipynb\u001b[39;00m\n\u001b[1;32m      2\u001b[0m \n\u001b[1;32m      3\u001b[0m \u001b[38;5;66;03m#  Goal:\u001b[39;00m\n\u001b[0;32m   (...)\u001b[0m\n\u001b[1;32m      8\u001b[0m \n\u001b[1;32m      9\u001b[0m \u001b[38;5;66;03m## Setup: Load Libraries\u001b[39;00m\n\u001b[1;32m     10\u001b[0m \u001b[38;5;28;01mimport\u001b[39;00m\u001b[38;5;250m \u001b[39m\u001b[38;5;21;01mnumpy\u001b[39;00m\u001b[38;5;250m \u001b[39m\u001b[38;5;28;01mas\u001b[39;00m\u001b[38;5;250m \u001b[39m\u001b[38;5;21;01mnp\u001b[39;00m\n\u001b[0;32m---> 11\u001b[0m \u001b[38;5;28;01mfrom\u001b[39;00m\u001b[38;5;250m \u001b[39m\u001b[38;5;21;01mtransformers\u001b[39;00m\u001b[38;5;250m \u001b[39m\u001b[38;5;28;01mimport\u001b[39;00m T5Tokenizer, T5Model\n\u001b[1;32m     12\u001b[0m \u001b[38;5;28;01mfrom\u001b[39;00m\u001b[38;5;250m \u001b[39m\u001b[38;5;21;01msentence_transformers\u001b[39;00m\u001b[38;5;250m \u001b[39m\u001b[38;5;28;01mimport\u001b[39;00m SentenceTransformer\n\u001b[1;32m     13\u001b[0m \u001b[38;5;28;01mfrom\u001b[39;00m\u001b[38;5;250m \u001b[39m\u001b[38;5;21;01msklearn\u001b[39;00m\u001b[38;5;21;01m.\u001b[39;00m\u001b[38;5;21;01mmetrics\u001b[39;00m\u001b[38;5;21;01m.\u001b[39;00m\u001b[38;5;21;01mpairwise\u001b[39;00m\u001b[38;5;250m \u001b[39m\u001b[38;5;28;01mimport\u001b[39;00m cosine_similarity\n",
      "\u001b[0;31mModuleNotFoundError\u001b[0m: No module named 'transformers'"
     ]
    }
   ],
   "source": [
    "#  02_hf_lucrarea_inspection.ipynb\n",
    "\n",
    "#  Goal:\n",
    "# Analyze the position of \"lucrarea\" in the HuggingFace implementation of Sentence-T5.\n",
    "# Compare how it is tokenized and where its embedding lies relative to </s>.\n",
    "\n",
    "# ---\n",
    "\n",
    "## Setup: Load Libraries\n",
    "import numpy as np\n",
    "from transformers import T5Tokenizer, T5Model\n",
    "from sentence_transformers import SentenceTransformer\n",
    "from sklearn.metrics.pairwise import cosine_similarity\n",
    "\n",
    "# ---\n",
    "\n",
    "## Load Model & Tokenizer\n",
    "model_name = \"sentence-transformers/sentence-t5-base\"\n",
    "smodel = SentenceTransformer(model_name)\n",
    "tokenizer = smodel.tokenizer  # Uses T5Tokenizer internally\n",
    "t5 = T5Model.from_pretrained(model_name)\n",
    "\n",
    "# ---\n",
    "\n"
   ]
  },
  {
   "cell_type": "code",
   "execution_count": null,
   "id": "7bdb335b",
   "metadata": {},
   "outputs": [],
   "source": [
    "## Analyze Tokenization\n",
    "text = \"lucrarea\"\n",
    "tokens = tokenizer.tokenize(text)\n",
    "print(\"Tokenized output for 'lucrarea':\", tokens)\n",
    "\n",
    "# Check if it exists as one token\n",
    "joined_token = \"▁lucrarea\"\n",
    "if joined_token in tokenizer.get_vocab():\n",
    "    token_id = tokenizer.get_vocab()[joined_token]\n",
    "    print(f\"'{joined_token}' found in vocab with ID {token_id}\")\n",
    "else:\n",
    "    print(f\"'{joined_token}' not found as a single token in the vocab\")"
   ]
  },
  {
   "cell_type": "code",
   "execution_count": null,
   "id": "4b3e415e",
   "metadata": {},
   "outputs": [],
   "source": [
    "## Get `</s>` embedding\n",
    "s_embedding = smodel.encode([\"</s>\"])[0]  # Shape: (768,)\n",
    "\n",
    "# ---\n",
    "\n"
   ]
  },
  {
   "cell_type": "code",
   "execution_count": null,
   "id": "d6a0afb1",
   "metadata": {},
   "outputs": [],
   "source": [
    "## Get embedding for each token piece in \"lucrarea\"\n",
    "token_ids = tokenizer.convert_tokens_to_ids(tokens)\n",
    "weights = t5.get_input_embeddings().weight.detach().cpu().numpy()\n",
    "\n",
    "lucrarea_embed = np.mean([weights[i] for i in token_ids], axis=0)\n"
   ]
  },
  {
   "cell_type": "code",
   "execution_count": null,
   "id": "dac7b1a4",
   "metadata": {},
   "outputs": [],
   "source": []
  },
  {
   "cell_type": "code",
   "execution_count": null,
   "id": "726d58f3",
   "metadata": {},
   "outputs": [],
   "source": [
    "## Compute similarity with </s>\n",
    "s_embedding /= np.linalg.norm(s_embedding)\n",
    "lucrarea_embed /= np.linalg.norm(lucrarea_embed)\n",
    "\n",
    "similarity = cosine_similarity([lucrarea_embed], [s_embedding])[0][0]\n",
    "print(f\"Cosine similarity between lucrarea and </s>: {similarity:.4f}\")"
   ]
  }
 ],
 "metadata": {
  "kernelspec": {
   "display_name": "st5env",
   "language": "python",
   "name": "python3"
  },
  "language_info": {
   "codemirror_mode": {
    "name": "ipython",
    "version": 3
   },
   "file_extension": ".py",
   "mimetype": "text/x-python",
   "name": "python",
   "nbconvert_exporter": "python",
   "pygments_lexer": "ipython3",
   "version": "3.10.13"
  }
 },
 "nbformat": 4,
 "nbformat_minor": 5
}
